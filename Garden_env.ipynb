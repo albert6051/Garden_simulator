{
  "nbformat": 4,
  "nbformat_minor": 0,
  "metadata": {
    "colab": {
      "provenance": [],
      "collapsed_sections": []
    },
    "kernelspec": {
      "name": "python3",
      "display_name": "Python 3"
    },
    "language_info": {
      "name": "python"
    }
  },
  "cells": [
    {
      "cell_type": "markdown",
      "source": [
        "#**0. Install Dependencies**"
      ],
      "metadata": {
        "id": "hbvOCV1avm-Y"
      }
    },
    {
      "cell_type": "code",
      "source": [
        "!pip install gym"
      ],
      "metadata": {
        "colab": {
          "base_uri": "https://localhost:8080/"
        },
        "id": "mrxxueJpvzoR",
        "outputId": "33fafd41-a29e-434b-8e8e-a50cd70e3df0"
      },
      "execution_count": null,
      "outputs": [
        {
          "output_type": "stream",
          "name": "stdout",
          "text": [
            "Looking in indexes: https://pypi.org/simple, https://us-python.pkg.dev/colab-wheels/public/simple/\n",
            "Requirement already satisfied: gym in /usr/local/lib/python3.7/dist-packages (0.25.2)\n",
            "Requirement already satisfied: numpy>=1.18.0 in /usr/local/lib/python3.7/dist-packages (from gym) (1.21.6)\n",
            "Requirement already satisfied: importlib-metadata>=4.8.0 in /usr/local/lib/python3.7/dist-packages (from gym) (4.13.0)\n",
            "Requirement already satisfied: gym-notices>=0.0.4 in /usr/local/lib/python3.7/dist-packages (from gym) (0.0.8)\n",
            "Requirement already satisfied: cloudpickle>=1.2.0 in /usr/local/lib/python3.7/dist-packages (from gym) (1.5.0)\n",
            "Requirement already satisfied: zipp>=0.5 in /usr/local/lib/python3.7/dist-packages (from importlib-metadata>=4.8.0->gym) (3.9.0)\n",
            "Requirement already satisfied: typing-extensions>=3.6.4 in /usr/local/lib/python3.7/dist-packages (from importlib-metadata>=4.8.0->gym) (4.1.1)\n"
          ]
        }
      ]
    },
    {
      "cell_type": "markdown",
      "source": [
        "# **1. Test Random Environment with OpenAI Gym**"
      ],
      "metadata": {
        "id": "C09KPqHdwE-q"
      }
    },
    {
      "cell_type": "code",
      "source": [
        "from gym import Env\n",
        "from gym.spaces import Discrete, Dict, Box\n",
        "from collections import OrderedDict\n",
        "import numpy as np\n",
        "import random"
      ],
      "metadata": {
        "id": "HkzMmfEYwELx"
      },
      "execution_count": null,
      "outputs": []
    },
    {
      "cell_type": "code",
      "source": [
        "import array\n",
        "class GardenEnv(Env):\n",
        "  def __init__(self, plant_num, x, y):\n",
        "    # Actions we can take, water, prune, nothing\n",
        "    self.action_space = Discrete(3)\n",
        "    # plant types and position\n",
        "    self.observation_plant = Dict({\n",
        "        # 5 Types of plants from 0 to 5\n",
        "        \"plant_type\": Box(0, 4, shape=(plant_num,), dtype=int),\n",
        "        # plants center position\n",
        "        \"plant_position\": Box(low=0, high=x, shape=(plant_num, 2), dtype=int)\n",
        "    })\n",
        "    # plant observation\n",
        "    self.observation_plant_growth = {\n",
        "        # plant size\n",
        "        \"plant_size\": np.zeros(plant_num),\n",
        "        # plant height\n",
        "        \"plant_height\": np.zeros(plant_num),\n",
        "        # plant root size\n",
        "        \"plant_root\": np.zeros(plant_num),\n",
        "        # plant depth\n",
        "        \"plant_depth\": np.zeros(plant_num),\n",
        "    }\n",
        "    self.observation_garden = Dict({\n",
        "        # water level\n",
        "        \"water_moisture\": Box(0.0, 1.0, shape=(x, y, ), dtype=float)\n",
        "    })\n",
        "    # Set start seed position\n",
        "    self.state = 38 + random.randint(-3, 3)\n",
        "    # Set garden time\n",
        "    self.garden_length = 100\n",
        "\n",
        "  def step(self):\n",
        "    self.state[\"plant_size\"] = self.state[\"plant_size\"] + 1\n",
        "  def render(self):\n",
        "    # Implement Viz\n",
        "    pass\n",
        "  def reset(self):\n",
        "    # Reset start seed position\n",
        "    self.state = self.observation_plant.sample()\n",
        "    self.state.update(self.observation_plant_growth)\n",
        "    self.state.update(self.observation_garden.sample())\n",
        "    # Reset garden time\n",
        "    self.garden_length = 0\n",
        "    return self.state"
      ],
      "metadata": {
        "id": "vSXer3T-zU6O"
      },
      "execution_count": null,
      "outputs": []
    },
    {
      "cell_type": "code",
      "source": [
        "test = GardenEnv(10, 255, 255)"
      ],
      "metadata": {
        "id": "xi32RPv9nMFO"
      },
      "execution_count": null,
      "outputs": []
    },
    {
      "cell_type": "code",
      "source": [
        "a = test.reset()"
      ],
      "metadata": {
        "id": "RADpeLpSsZ26"
      },
      "execution_count": null,
      "outputs": []
    },
    {
      "cell_type": "code",
      "source": [
        "a"
      ],
      "metadata": {
        "id": "oMEiJA2xu9Zp",
        "colab": {
          "base_uri": "https://localhost:8080/"
        },
        "outputId": "70038d88-686e-41e8-a360-da78b796a1d3"
      },
      "execution_count": null,
      "outputs": [
        {
          "output_type": "execute_result",
          "data": {
            "text/plain": [
              "OrderedDict([('plant_position', array([[ 29, 206],\n",
              "                     [154, 155],\n",
              "                     [ 25, 161],\n",
              "                     [  4, 141],\n",
              "                     [213, 223],\n",
              "                     [ 59,  77],\n",
              "                     [ 90, 249],\n",
              "                     [182, 172],\n",
              "                     [ 13,  65],\n",
              "                     [129, 231]])),\n",
              "             ('plant_type', array([0, 3, 1, 4, 2, 0, 0, 2, 2, 2])),\n",
              "             ('plant_size', array([0., 0., 0., 0., 0., 0., 0., 0., 0., 0.])),\n",
              "             ('plant_height', array([0., 0., 0., 0., 0., 0., 0., 0., 0., 0.])),\n",
              "             ('plant_root', array([0., 0., 0., 0., 0., 0., 0., 0., 0., 0.])),\n",
              "             ('plant_depth', array([0., 0., 0., 0., 0., 0., 0., 0., 0., 0.])),\n",
              "             ('water_moisture',\n",
              "              array([[0.14450907, 0.06142823, 0.19942714, ..., 0.63387071, 0.08474919,\n",
              "                      0.4081821 ],\n",
              "                     [0.1857825 , 0.1638242 , 0.9947544 , ..., 0.18121358, 0.05332824,\n",
              "                      0.50943796],\n",
              "                     [0.51261446, 0.78986065, 0.27770709, ..., 0.83350125, 0.3607045 ,\n",
              "                      0.55341398],\n",
              "                     ...,\n",
              "                     [0.17789553, 0.86665547, 0.29919145, ..., 0.39001077, 0.36274951,\n",
              "                      0.04032539],\n",
              "                     [0.6878947 , 0.04377243, 0.98125962, ..., 0.99651253, 0.59694872,\n",
              "                      0.31033571],\n",
              "                     [0.33477405, 0.20958197, 0.0701471 , ..., 0.12260124, 0.78473982,\n",
              "                      0.46330939]]))])"
            ]
          },
          "metadata": {},
          "execution_count": 22
        }
      ]
    },
    {
      "cell_type": "code",
      "source": [],
      "metadata": {
        "id": "m8nrAZTIFU2l"
      },
      "execution_count": null,
      "outputs": []
    },
    {
      "cell_type": "markdown",
      "source": [
        "#**A.Plant Preset**"
      ],
      "metadata": {
        "id": "2umonzb9FWmn"
      }
    },
    {
      "cell_type": "code",
      "source": [
        "# Data Obtain from AlphaGarden\n",
        "import numpy as np\n",
        "SEG_COLORS = False\n",
        "\n",
        "def generate_growth_time(germination_time, maturation_time, r_max, r_0, k2, c2):\n",
        "    \"\"\"\n",
        "    Samples a normal distribution for germination and maturation times.  Uses these values to\n",
        "    compute an individual plant's growth time and c1 value.\n",
        "    \n",
        "    germination_time (float, float) - the mean and standard deviation from which to sample a\n",
        "                                      germination time from.\n",
        "    \n",
        "    maturation_time (float , float) - the mean and standard deviation from which to sample a\n",
        "                                      maturation time from.\n",
        "                                  \n",
        "    r_max, r_0, k2, c_2 (float)     - values that are global to a plant type.\n",
        "                                      Computed in _compute_from_table_values. \n",
        "    \"\"\"\n",
        "    maturation_length = np.random.normal(maturation_time[0], maturation_time[1])\n",
        "    germination_length = np.random.normal(germination_time[0], germination_time[1])\n",
        "    growth_time = int(maturation_length - germination_length)\n",
        "    # c1 = (((r_max / r_0) ** (1 / growth_time) - 1) * STEP) / (k2 * c2 * (1.5 * np.pi) ** 0.5)\n",
        "    return growth_time, germination_length\n",
        "\n",
        "def get_r_max(v):\n",
        "    r_max = (v / 2)\n",
        "    return r_max\n",
        "\n",
        "def _compute_from_table_values(\n",
        "    name=\"plant\", color=(0/255, 128/255, 0/255),\n",
        "    germination_time=(3, 1), \n",
        "    r_max=(1.0,1.0),\n",
        "    maturation_time=(10, 1),\n",
        "    stopping_color=(0, 0, 1),\n",
        "    color_step=(10/255, 0, 0),\n",
        "    c1=.27,\n",
        "    r_0=0.04\n",
        "    ):\n",
        "    \"\"\"\n",
        "    germination_time (int, int) - a range of values in days for the plant's germination time.\n",
        "                                  The actual germination time of any particular plant will be\n",
        "                                  chosen uniformly at random from this range.\n",
        "    seed_spacing (float)        - the recommend spacing to use when planting seeds.\n",
        "                                  We will approximate the max final radius of the plant to be half of this value.\n",
        "    maturation_time (int)       - number of days this plant will live before stopping growth\n",
        "    \"\"\"\n",
        "\n",
        "    c2 = 3\n",
        "    k1, k2 = 0.3, 0.7\n",
        "    unoccluded_c1 = c1 / k2\n",
        "    h_0 = 0.1\n",
        "    r_max = max(1, np.random.normal(MAX_RADIUS[name][0], MAX_RADIUS[name][1]))\n",
        "    # r_max = MAX_RADIUS[name][0] + MAX_RADIUS[name][1]\n",
        "    growth_time = generate_growth_time(germination_time, maturation_time, r_max, r_0, k2, c2)\n",
        "\n",
        "    return {\n",
        "        \"germination_time\": germination_time,\n",
        "        \"maturation_time\": maturation_time,\n",
        "        \"k1\": k1,\n",
        "        \"k2\": k2,\n",
        "        \"c1\": unoccluded_c1,\n",
        "        \"c2\": c2,\n",
        "        \"start_radius\": r_0,\n",
        "        \"start_height\": h_0,\n",
        "        \"r_max\": r_max,\n",
        "        \"growth_time\": growth_time,\n",
        "        \"plant_type\": name,\n",
        "        \"color\": color,\n",
        "        \"stopping_color\": stopping_color,\n",
        "        \"color_step\": color_step\n",
        "    }\n",
        "\n",
        "sf_rad = 1\n",
        "MAX_RADIUS = {\n",
        " 'borage': (50,3), #(60,5) \n",
        " 'sorrel': (8,2),\n",
        " 'cilantro': (20,2),\n",
        " 'radicchio': (43,2),#24\n",
        " 'kale': (50,4), #35\n",
        " 'green_lettuce': (27,4), #(18,1)\n",
        " 'red_lettuce': (28,3),#15\n",
        " 'arugula': (40,3), #(25,1)\n",
        " 'swiss_chard': (47,3), #27\n",
        " 'turnip': (50,2) #31\n",
        "}\n",
        "\n",
        "\n",
        "SRV = 0.0\n",
        "\n",
        "# PLANTS_RELATION = {\n",
        "#         \"borage\":       {\"borage\": SRV, \"sorrel\": 0.0,  \"cilantro\": 0.0, \"radicchio\": 0.0, \"kale\": 0.0, \"green_lettuce\": 0.0, \"red_lettuce\": 10.0, \"arugula\": 0.0, \"swiss_chard\": 10.0, \"turnip\": 0.0},\n",
        "#         \"sorrel\":       {\"borage\": 0.0, \"sorrel\": SRV,  \"cilantro\": 0.0, \"radicchio\": 0.0, \"kale\": 0.0, \"green_lettuce\": 0.0, \"red_lettuce\": 0.0, \"arugula\": 0.0, \"swiss_chard\": 0.0, \"turnip\": 0.0},\n",
        "#         \"cilantro\":     {\"borage\": 10.0, \"sorrel\": 0.0,  \"cilantro\": SRV, \"radicchio\": 0.0, \"kale\": 10.0, \"green_lettuce\": 0.0, \"red_lettuce\": 0.0, \"arugula\": 0.0, \"swiss_chard\": 0.0, \"turnip\": 0.0},\n",
        "#         \"radicchio\":    {\"borage\": 0.0, \"sorrel\": 0.0,  \"cilantro\": 0.0, \"radicchio\": SRV, \"kale\": 0.0, \"green_lettuce\":-10.0, \"red_lettuce\":10.0, \"arugula\": 0.0, \"swiss_chard\":10.0, \"turnip\": 0.0},\n",
        "#         \"kale\":         {\"borage\": 5.0, \"sorrel\": 0.0,  \"cilantro\": 0.0, \"radicchio\": 5.0, \"kale\": SRV, \"green_lettuce\": 5.0, \"red_lettuce\": 5.0, \"arugula\": 5.0, \"swiss_chard\": 0.0, \"turnip\": 0.0},\n",
        "#         \"green_lettuce\":{\"borage\": 0.0, \"sorrel\": 0.0,  \"cilantro\": 0.0, \"radicchio\": 0.0, \"kale\": 0.0, \"green_lettuce\": SRV, \"red_lettuce\": 10.0, \"arugula\": 0.0, \"swiss_chard\": 10.0, \"turnip\": 0.0},\n",
        "#         \"red_lettuce\":  {\"borage\": 0.0, \"sorrel\": 0.0,  \"cilantro\": 0.0, \"radicchio\": 10.0, \"kale\": 10.0, \"green_lettuce\": 10.0, \"red_lettuce\": SRV, \"arugula\": 0.0, \"swiss_chard\": 0.0, \"turnip\": 0.0},\n",
        "#         \"arugula\":      {\"borage\": 0.0, \"sorrel\": -5.0,  \"cilantro\": 0.0, \"radicchio\": 0.0, \"kale\": -5.0, \"green_lettuce\": 0.0, \"red_lettuce\": 0.0, \"arugula\": SRV, \"swiss_chard\": 0.0, \"turnip\": 0.0},\n",
        "#         \"swiss_chard\":  {\"borage\": 0.0, \"sorrel\": 0.0,  \"cilantro\": 0.0, \"radicchio\": 0.0, \"kale\": 0.0, \"green_lettuce\": 0.0, \"red_lettuce\": 0.0, \"arugula\": 0.0, \"swiss_chard\": SRV, \"turnip\": 0.0},\n",
        "#         \"turnip\":       {\"borage\": 0.0, \"sorrel\": 0.0,  \"cilantro\": 0.0, \"radicchio\": 0.0, \"kale\": 0.0, \"green_lettuce\": 0.0, \"red_lettuce\": 0.0, \"arugula\": 10.0, \"swiss_chard\": 10.0, \"turnip\": SRV}\n",
        "# }\n",
        "\n",
        "PLANTS_RELATION = {\n",
        "         \"borage\":       {\"borage\": SRV, \"sorrel\": SRV,  \"cilantro\": SRV, \"radicchio\": SRV, \"kale\": SRV, \"green_lettuce\": SRV, \"red_lettuce\": SRV, \"arugula\": SRV, \"swiss_chard\": SRV, \"turnip\": SRV},\n",
        "         \"sorrel\":       {\"borage\": SRV, \"sorrel\": SRV,  \"cilantro\": SRV, \"radicchio\": SRV, \"kale\": SRV, \"green_lettuce\": SRV, \"red_lettuce\": SRV, \"arugula\": SRV, \"swiss_chard\": SRV, \"turnip\": SRV},\n",
        "         \"cilantro\":     {\"borage\": SRV, \"sorrel\": SRV,  \"cilantro\": SRV, \"radicchio\": SRV, \"kale\": SRV, \"green_lettuce\": SRV, \"red_lettuce\": SRV, \"arugula\": SRV, \"swiss_chard\": SRV, \"turnip\": SRV},\n",
        "         \"radicchio\":    {\"borage\": SRV, \"sorrel\": SRV,  \"cilantro\": SRV, \"radicchio\": SRV, \"kale\": SRV, \"green_lettuce\": SRV, \"red_lettuce\": SRV, \"arugula\": SRV, \"swiss_chard\": SRV, \"turnip\": SRV},\n",
        "         \"kale\":         {\"borage\": SRV, \"sorrel\": SRV,  \"cilantro\": SRV, \"radicchio\": SRV, \"kale\": SRV, \"green_lettuce\": SRV, \"red_lettuce\": SRV, \"arugula\": SRV, \"swiss_chard\": SRV, \"turnip\": SRV},\n",
        "         \"green_lettuce\":{\"borage\": SRV, \"sorrel\": SRV,  \"cilantro\": SRV, \"radicchio\": SRV, \"kale\": SRV, \"green_lettuce\": SRV, \"red_lettuce\": SRV, \"arugula\": SRV, \"swiss_chard\": SRV, \"turnip\": SRV},\n",
        "         \"red_lettuce\":  {\"borage\": SRV, \"sorrel\": SRV,  \"cilantro\": SRV, \"radicchio\": SRV, \"kale\": SRV, \"green_lettuce\": SRV, \"red_lettuce\": SRV, \"arugula\": SRV, \"swiss_chard\": SRV, \"turnip\": SRV},\n",
        "         \"arugula\":      {\"borage\": SRV, \"sorrel\": SRV,  \"cilantro\": SRV, \"radicchio\": SRV, \"kale\": SRV, \"green_lettuce\": SRV, \"red_lettuce\": SRV, \"arugula\": SRV, \"swiss_chard\": SRV, \"turnip\": SRV},\n",
        "         \"swiss_chard\":  {\"borage\": SRV, \"sorrel\": SRV,  \"cilantro\": SRV, \"radicchio\": SRV, \"kale\": SRV, \"green_lettuce\": SRV, \"red_lettuce\": SRV, \"arugula\": SRV, \"swiss_chard\": SRV, \"turnip\": SRV},\n",
        "         \"turnip\":       {\"borage\": SRV, \"sorrel\": SRV,  \"cilantro\": SRV, \"radicchio\": SRV, \"kale\": SRV, \"green_lettuce\": SRV, \"red_lettuce\": SRV, \"arugula\": SRV, \"swiss_chard\": SRV, \"turnip\": SRV}\n",
        " }\n",
        "\n",
        "\n",
        "PLANT_TYPES = {\n",
        "    # removed unknown plant, replaced with invasive species\n",
        "    # https://www.gardeningknowhow.com/edible/herbs/borage/borage-herb.htm\n",
        "    \"borage\": _compute_from_table_values(name=\"borage\", color=[(9 / 255, 77 / 255, 10 / 255),(0.9467, 0.6863, 0.2431)][SEG_COLORS], germination_time=(7, 1),\n",
        "                                         r_max=MAX_RADIUS[\"borage\"], maturation_time=(55,5),\n",
        "                                         stopping_color=(150 / 255, 0, 1), r_0=1, c1=.24), #c1=0.13847766 #0.09\n",
        "    # https://harvesttotable.com/how-to-grow-mizuna/\n",
        "    # \"mizuna\": _compute_from_table_values(name=\"mizuna\", color=(91 / 255, 224 / 255, 54 / 255), germination_time=(4, 7),\n",
        "    #                                      seed_spacing=SEED_SPACING[\"mizuna\"], maturation_time=40,\n",
        "    #                                      stopping_color=(181 / 255, 134 / 255, 1)),\n",
        "    # https://harvesttotable.com/how_to_grow_sorrel/\n",
        "    # https://www.superseeds.com/products/sorrel-48-days\n",
        "    # https://www.seedaholic.com/sorrel-red-veined.html\n",
        "    # https://www.succeedheirlooms.com.au/heirloom-vegetable-seed/heirloom-leaf-vegetable-seeds/sorrel-red-veined.html\n",
        "    \"sorrel\": _compute_from_table_values(name=\"sorrel\", color=[(167 / 255, 247 / 255, 77 / 255), (0.9294, 0.2, 0.2412)][SEG_COLORS],\n",
        "                                         germination_time=(15, 2),\n",
        "                                         r_max=MAX_RADIUS[\"sorrel\"], maturation_time=(70,5),\n",
        "                                         stopping_color=(127 / 255, 87 / 255, 1), r_0=1, c1=.32),#0.13337204 #0.08\n",
        "    # https://www.burpee.com/gardenadvicecenter/herbs/cilantro/all-about-cilantro/article10222.html\n",
        "    \"cilantro\": _compute_from_table_values(name=\"cilantro\", color=[(101 / 255, 179 / 255, 53 / 255), (0.2, 0.4784, 0.3765)][SEG_COLORS],\n",
        "                                           germination_time=(10, 2),\n",
        "                                           r_max=MAX_RADIUS[\"cilantro\"], maturation_time=(65,5), #66\n",
        "                                           stopping_color=(181 / 255, 99 / 255, 1), r_0=1, c1=.32), #0.22764992\n",
        "    # https://www.growveg.com/plants/us-and-canada/how-to-grow-radicchio/\n",
        "    \"radicchio\": _compute_from_table_values(name=\"radicchio\", color=[(147 / 255, 199 / 255, 109 / 255),(0.7333, 0.6980, 0.0934)][SEG_COLORS],\n",
        "                                            germination_time=(9, 2),\n",
        "                                            r_max=MAX_RADIUS[\"radicchio\"], maturation_time=(55,5), #(61,5)\n",
        "                                            stopping_color=(122 / 255, 99 / 255, 1), r_0=1, c1=.3),#0.13222516\n",
        "    # https://www.superseeds.com/products/dwarf-blue-curled-kale-55-days\n",
        "    \"kale\": _compute_from_table_values(name=\"kale\", color=[(117 / 255, 158 / 255, 81 / 255),(0.1137, 0.2588, 0.8510)][SEG_COLORS], germination_time=(7, 2),\n",
        "                                       r_max=MAX_RADIUS[\"kale\"], maturation_time=(55,5), #55\n",
        "                                       stopping_color=(152 / 255, 88 / 255, 1), r_0=1, c1=.28), #0.15323942 #0.1\n",
        "    # https://www.superseeds.com/products/baby-oakleaf-lettuce\n",
        "    \"green_lettuce\": _compute_from_table_values(name=\"green_lettuce\", color=[(142 / 255, 199 / 255, 52 / 255),(0.4275, 0.8667, 0.6941)][SEG_COLORS],\n",
        "                                                germination_time=(9, 2),\n",
        "                                                r_max=MAX_RADIUS[\"green_lettuce\"], maturation_time=(52,5),\n",
        "                                                stopping_color=(202 / 255, 129 / 255, 1), r_0=1, c1=.245), #0.16064508 #0.0875\n",
        "    # https://veggieharvest.com/vegetables/lettuce.html\n",
        "    \"red_lettuce\": _compute_from_table_values(name=\"red_lettuce\", color=[(117 / 255, 128 / 255, 81 / 255),(0.5098, 0.2784, 0.8549)][SEG_COLORS],\n",
        "                                              germination_time=(12, 2),\n",
        "                                              r_max=MAX_RADIUS[\"red_lettuce\"], maturation_time=(50,5), #(63,5)\n",
        "                                              stopping_color=(177 / 255, 98 / 255, 1), r_0=1, c1=.3),#0.24597908\n",
        "    \"arugula\": _compute_from_table_values(name=\"arugula\", color=[(58 / 255, 167 / 255, 100 / 255), (0.3059, 0.4667, 0.1255)][SEG_COLORS],\n",
        "                                         germination_time=(8, 2),\n",
        "                                         r_max=MAX_RADIUS[\"arugula\"], maturation_time=(52,5), #52\n",
        "                                          stopping_color=(198 / 255, 0, 1), r_0=1, c1=.4),#0.15589411 #.105\n",
        "    # https://gardenerspath.com/plants/vegetables/grow-swiss-chard/#Propagation\n",
        "    # https://www.superseeds.com/products/peppermint-swiss-chard\n",
        "    \"swiss_chard\": _compute_from_table_values(name=\"swiss_chard\", color=[(58 / 255, 137 / 255, 100 / 255), (0.8196, 0.2863, 0.6510)][SEG_COLORS],\n",
        "                                              germination_time=(7, 2),\n",
        "                                              r_max=MAX_RADIUS[\"swiss_chard\"], maturation_time=(50,5), #(55,5)\n",
        "                                              stopping_color=(188 / 255, 137 / 255, 1), r_0=1, c1=.26), #0.17361995 #0.115\n",
        "    # rhs.org.uk/advice/grow-your-own/vegetables/turnip\n",
        "    \"turnip\": _compute_from_table_values(name=\"turnip\", color=[(0, 230 / 255, 0), (0.9333, 0.3804, 0.3725)][SEG_COLORS], germination_time=(7, 2),\n",
        "                                         r_max=MAX_RADIUS[\"turnip\"], maturation_time=(47,5), #(47,5)\n",
        "                                         stopping_color=(140 / 255, 90 / 255, 1), r_0=1, c1=.28)#0.17786107  #.11\n",
        "    # https://www.superseeds.com/products/mint\n",
        "    #\"mint\": _compute_from_table_values(name=\"mint\", color=(101 / 255, 179 / 255, 53 / 255), germination_time=(10, 15),\n",
        "    #                                   seed_spacing=SEED_SPACING[\"mint\"], maturation_time=90,\n",
        "    #                                   stopping_color=(191 / 255, 134 / 255, 1))\n",
        "    # \"invasive\": _compute_from_table_values(name=\"invasive\", color=(255/255, 0/255, 0/255), germination_time=(2, 5),\n",
        "    #                                        seed_spacing=40, maturation_time=40, stopping_color=(119/255, 0, 1)),\n",
        "    #\"unknown\": _compute_from_table_values(name=\"unknown\", color=(9/255, 47/255, 10/255), germination_time=(5, 10),\n",
        "    #                                      seed_spacing=9, maturation_time=63, stopping_color=(119/255, 0, 1)),\n",
        "    # \"bok-choy\": _compute_from_table_values(name=\"bok-choy\", color=(86/255, 139/255, 31/255), germination_time=(5, 10),\n",
        "    #                                        seed_spacing=6, maturation_time=45, stopping_color=(115/255, 0, 1)),\n",
        "    #\"basil\": _compute_from_table_values(name=\"basil\", color=(9/255, 77/255, 10/255), germination_time=(5, 10),\n",
        "    #                                    seed_spacing=9, maturation_time=63, stopping_color=(150/255, 0, 1)),\n",
        "    # \"lavender\": _compute_from_table_values(name=\"lavender\", color=(0, 183/255, 0), germination_time=(14, 21),\n",
        "    #                                        seed_spacing=21, maturation_time=145, stopping_color=(120/255, 63/255, 1), color_step=(10/255, -10/255, 0/255)),\n",
        "    # \"parsley\": _compute_from_table_values(name=\"parsley\", color=(142/255, 229/255, 52/255), germination_time=(21, 28),\n",
        "    #                                       seed_spacing=10.5, maturation_time=80, stopping_color=(142/255, 0, 1), color_step=(-20/255, 0/255, 0/255)),\n",
        "    # \"sage\": _compute_from_table_values(name=\"sage\", color=(62/255, 159/255, 78/255), germination_time=(10, 21),\n",
        "    #                                    seed_spacing=30, maturation_time=730, stopping_color=(132/255, 89/255, 1), color_step=(10/255, -10/255, 0/255)),\n",
        "    # \"rosemary\": _compute_from_table_values(name=\"rosemary\", color=(0, 230/255, 0), germination_time=(15, 25),\n",
        "    #                                        seed_spacing=21, maturation_time=183, stopping_color=(140/255, 90/255, 1), color_step=(10/255, -10/255, 0/255)),\n",
        "    # \"thyme\": _compute_from_table_values(name=\"thyme\", color=(101/255, 179/255, 53/255), germination_time=(8, 20),\n",
        "    #                                     seed_spacing=21, maturation_time=95, stopping_color=(191/255, 134/255, 1), color_step=(10/255, -5/255, 0/255)),\n",
        "    # \"chives\": _compute_from_table_values(name=\"chives\", color=(58/255, 167/255, 100/255), germination_time=(15, 21),\n",
        "    #                                      seed_spacing=7.5, maturation_time=90, stopping_color=(198/255, 0, 1)),\n",
        "    #\"cilantro\": _compute_from_table_values(name=\"cilantro\", color=(91/255, 224/255, 54/255), germination_time=(7, 10),\n",
        "    #                                       seed_spacing=4, maturation_time=68, stopping_color=(181/255, 134/255, 1),\n",
        "    #                                       color_step=(10/255, -10/255, 0/255)),\n",
        "    # \"dill\": _compute_from_table_values(name=\"dill\", color=(79/255, 151/255, 66/255), germination_time=(7, 10),\n",
        "    #                                    seed_spacing=13.5, maturation_time=70, stopping_color=(189/255, 0, 1)),\n",
        "    #\"fennel\": _compute_from_table_values(name=\"fennel\", color=(167/255, 247/255, 77/255), germination_time=(8, 12),\n",
        "    #                                     seed_spacing=11, maturation_time=65, stopping_color=(127/255, 87/255, 1),\n",
        "    #                                     color_step=(-5/255, -20/255, 0/255)),\n",
        "    #\"marjoram\": _compute_from_table_values(name=\"marjoram\", color=(101/255, 179/255, 53/255), germination_time=(7, 14),\n",
        "   #                                        seed_spacing=8, maturation_time=60, stopping_color=(181/255, 99/255, 1),\n",
        "    #                                       color_step=(10/255, -10/255, 0/255)),\n",
        "    #\"oregano\": _compute_from_table_values(name=\"oregano\", color=(147/255, 199/255, 109/255), germination_time=(8, 14),\n",
        "    #                                      seed_spacing=13.5, maturation_time=88, stopping_color=(122/255, 99/255, 1),\n",
        "    #                                      color_step=(-5/255, -10/255, 0/255)),\n",
        "   # \"tarragon\": _compute_from_table_values(name=\"tarragon\", color=(117/255, 158/255, 81/255), germination_time=(7, 14),\n",
        "    #                                       seed_spacing=21, maturation_time=60, stopping_color=(152/255, 88/255, 1),\n",
        "    #                                       color_step=(5/255, -10/255, 0/255)),\n",
        "   # \"nastursium\": _compute_from_table_values(name=\"nastursium\", color=(142/255, 199/255, 52/255),\n",
        "   #                                          germination_time=(10, 12),\n",
        "   #                                          seed_spacing=11, maturation_time=60, stopping_color=(202/255, 129/255, 1),\n",
        "   #                                          color_step=(10/255, -10/255, 0/255)),\n",
        "   # \"marigold\": _compute_from_table_values(name=\"marigold\", color=(117/255, 128/255, 81/255), germination_time=(5, 10),\n",
        "   #                                        seed_spacing=7, maturation_time=50, stopping_color=(177/255, 98/255, 1),\n",
        "   #                                        color_step=(10/255, -5/255, 0/255)),\n",
        "    # \"calendula\": _compute_from_table_values(name=\"calendula\", color=(62/255, 129/255, 78/255), germination_time=(7, 10),\n",
        "    #                                         seed_spacing=12, maturation_time=50, stopping_color=(182/255, 129/255, 1)),\n",
        "    # \"radish\": _compute_from_table_values(name=\"radish\", color=(91/255, 194/255, 54/255),\n",
        "    #                                      germination_time=(3, 10),\n",
        "    #                                      seed_spacing=5, maturation_time=28, stopping_color=(171/255, 114/255, 1), color_step=(10/255, -10/255, 0/255)),\n",
        "    #\"borage\": _compute_from_table_values(name=\"borage\", color=(58/255, 137/255, 100/255),\n",
        "    #                                     germination_time=(5, 15),\n",
        "    #                                     seed_spacing=20, maturation_time=5, stopping_color=(188/255, 137/255, 1))\n",
        "}\n",
        "\n",
        "PLANT_SIZE = {}\n",
        "for key in MAX_RADIUS:\n",
        "    PLANT_SIZE[key] = get_r_max(MAX_RADIUS[key][0])\n",
        "\n",
        "PLANTS = list(PLANT_TYPES.keys())\n",
        "COLORS = [PLANT_TYPES[plant][\"color\"] for plant in PLANT_TYPES]"
      ],
      "metadata": {
        "id": "GryfFPZFFU75"
      },
      "execution_count": 2,
      "outputs": []
    },
    {
      "cell_type": "code",
      "source": [],
      "metadata": {
        "id": "Rq0cWMidFVEM"
      },
      "execution_count": null,
      "outputs": []
    }
  ]
}