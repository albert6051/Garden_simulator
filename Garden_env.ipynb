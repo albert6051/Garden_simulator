{
  "nbformat": 4,
  "nbformat_minor": 0,
  "metadata": {
    "colab": {
      "provenance": [],
      "collapsed_sections": []
    },
    "kernelspec": {
      "name": "python3",
      "display_name": "Python 3"
    },
    "language_info": {
      "name": "python"
    }
  },
  "cells": [
    {
      "cell_type": "markdown",
      "source": [
        "#**0. Install Dependencies**"
      ],
      "metadata": {
        "id": "hbvOCV1avm-Y"
      }
    },
    {
      "cell_type": "code",
      "source": [
        "!pip install gym"
      ],
      "metadata": {
        "colab": {
          "base_uri": "https://localhost:8080/"
        },
        "id": "mrxxueJpvzoR",
        "outputId": "13d54783-bc4a-42c0-e11a-34e06f4c4fbe"
      },
      "execution_count": null,
      "outputs": [
        {
          "output_type": "stream",
          "name": "stdout",
          "text": [
            "Looking in indexes: https://pypi.org/simple, https://us-python.pkg.dev/colab-wheels/public/simple/\n",
            "Requirement already satisfied: gym in /usr/local/lib/python3.7/dist-packages (0.25.2)\n",
            "Requirement already satisfied: importlib-metadata>=4.8.0 in /usr/local/lib/python3.7/dist-packages (from gym) (4.13.0)\n",
            "Requirement already satisfied: cloudpickle>=1.2.0 in /usr/local/lib/python3.7/dist-packages (from gym) (1.5.0)\n",
            "Requirement already satisfied: gym-notices>=0.0.4 in /usr/local/lib/python3.7/dist-packages (from gym) (0.0.8)\n",
            "Requirement already satisfied: numpy>=1.18.0 in /usr/local/lib/python3.7/dist-packages (from gym) (1.21.6)\n",
            "Requirement already satisfied: typing-extensions>=3.6.4 in /usr/local/lib/python3.7/dist-packages (from importlib-metadata>=4.8.0->gym) (4.1.1)\n",
            "Requirement already satisfied: zipp>=0.5 in /usr/local/lib/python3.7/dist-packages (from importlib-metadata>=4.8.0->gym) (3.9.0)\n"
          ]
        }
      ]
    },
    {
      "cell_type": "markdown",
      "source": [
        "# **1. Test Random Environment with OpenAI Gym**"
      ],
      "metadata": {
        "id": "C09KPqHdwE-q"
      }
    },
    {
      "cell_type": "code",
      "source": [
        "from gym import Env\n",
        "from gym.spaces import Discrete, Dict, Box\n",
        "import numpy as np\n",
        "import random"
      ],
      "metadata": {
        "id": "HkzMmfEYwELx"
      },
      "execution_count": null,
      "outputs": []
    },
    {
      "cell_type": "code",
      "source": [
        "import array\n",
        "class GardenEnv(Env):\n",
        "  def __init__(self, plant_num, x, y):\n",
        "    # Actions we can take, water, prune, nothing\n",
        "    self.action_space = Discrete(3)\n",
        "    # Garden array\n",
        "    self.observation_space = Dict({\n",
        "        # 5 Types of plants from 0 to 5\n",
        "        \"plant_type\": Box(0, 4, shape=(plant_num,), dtype=int),\n",
        "        # plants center position\n",
        "        \"plant_position\": Box(low=0, high=x, shape=(plant_num, 2), dtype=int),\n",
        "        # plant size\n",
        "        \"plant_size\": Box(0, 100, shape=(plant_num,), dtype=int),\n",
        "        # plant height\n",
        "        \"plant_height\": Box(0, 10, shape=(plant_num,), dtype=int),\n",
        "        # plant root size\n",
        "        \"plant_root\": Box(0, 100, shape=(plant_num,), dtype=int),\n",
        "        # plant depth\n",
        "        \"plant_depth\": Box(0, 10, shape=(plant_num,), dtype=int),\n",
        "        # water level\n",
        "        \"water_moisture\": Box(0.0, 1.0, shape=(x, y, ), dtype=float)\n",
        "    })\n",
        "    # Set start seed position\n",
        "    self.state = 38 + random.randint(-3, 3)\n",
        "    # Set garden time\n",
        "    self.garden_length = 100\n",
        "\n",
        "  def step(self, action):\n",
        "    pass\n",
        "  def render(self):\n",
        "    # Implement Viz\n",
        "    pass\n",
        "  def reset(self):\n",
        "    # Reset start seed position\n",
        "    self.state = self.observation_space[\"water_moisture\"].sample()\n",
        "    # Reset garden time\n",
        "    self.garden_length = 100\n",
        "    return self.state"
      ],
      "metadata": {
        "id": "vSXer3T-zU6O"
      },
      "execution_count": null,
      "outputs": []
    },
    {
      "cell_type": "code",
      "source": [
        "test = GardenEnv(10, 255, 255)"
      ],
      "metadata": {
        "id": "xi32RPv9nMFO"
      },
      "execution_count": null,
      "outputs": []
    },
    {
      "cell_type": "code",
      "source": [
        "test.observation_space[\"water_moisture\"].sample()"
      ],
      "metadata": {
        "colab": {
          "base_uri": "https://localhost:8080/"
        },
        "id": "TT9ajFC9oqOf",
        "outputId": "03fe375e-ca14-4981-fc59-4721ffde74de"
      },
      "execution_count": null,
      "outputs": [
        {
          "output_type": "execute_result",
          "data": {
            "text/plain": [
              "array([[0.36417081, 0.11115317, 0.08080593, ..., 0.87384566, 0.36757156,\n",
              "        0.56958442],\n",
              "       [0.53849639, 0.99544818, 0.71521996, ..., 0.73893129, 0.59995321,\n",
              "        0.60852824],\n",
              "       [0.67711907, 0.1821209 , 0.46622826, ..., 0.39433888, 0.82925419,\n",
              "        0.21365994],\n",
              "       ...,\n",
              "       [0.93638944, 0.18854654, 0.88917902, ..., 0.83831584, 0.68583342,\n",
              "        0.27050064],\n",
              "       [0.9300077 , 0.75895789, 0.94967156, ..., 0.09720279, 0.80969401,\n",
              "        0.74618737],\n",
              "       [0.38807401, 0.09443027, 0.38542351, ..., 0.73283062, 0.85301773,\n",
              "        0.25264823]])"
            ]
          },
          "metadata": {},
          "execution_count": 24
        }
      ]
    },
    {
      "cell_type": "code",
      "source": [
        "a = test.reset()"
      ],
      "metadata": {
        "id": "RADpeLpSsZ26"
      },
      "execution_count": null,
      "outputs": []
    },
    {
      "cell_type": "code",
      "source": [
        "a"
      ],
      "metadata": {
        "id": "oMEiJA2xu9Zp",
        "colab": {
          "base_uri": "https://localhost:8080/"
        },
        "outputId": "00fc6d09-a6a8-43e0-9696-a3da11a813fc"
      },
      "execution_count": null,
      "outputs": [
        {
          "output_type": "execute_result",
          "data": {
            "text/plain": [
              "array([[0.4586921 , 0.49812051, 0.89880776, ..., 0.66686117, 0.51689057,\n",
              "        0.9965221 ],\n",
              "       [0.15588387, 0.2340401 , 0.11648535, ..., 0.16395715, 0.54775008,\n",
              "        0.07496851],\n",
              "       [0.15566154, 0.36627685, 0.13846734, ..., 0.01785281, 0.19351835,\n",
              "        0.72919282],\n",
              "       ...,\n",
              "       [0.1923721 , 0.67003134, 0.23221933, ..., 0.19193702, 0.65809554,\n",
              "        0.02877471],\n",
              "       [0.92545377, 0.95598457, 0.26823776, ..., 0.40121861, 0.90445596,\n",
              "        0.28909984],\n",
              "       [0.24583864, 0.83081338, 0.7620676 , ..., 0.85500701, 0.54450811,\n",
              "        0.4178442 ]])"
            ]
          },
          "metadata": {},
          "execution_count": 23
        }
      ]
    }
  ]
}